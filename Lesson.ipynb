{
 "cells": [
  {
   "cell_type": "markdown",
   "metadata": {},
   "source": [
    "# Multiprocessing\n",
    "\n",
    "Or writing programs to use multiple processor cores"
   ]
  },
  {
   "cell_type": "markdown",
   "metadata": {},
   "source": [
    "### This lesson is based on notes from [sebastianraschka.com](http://sebastianraschka.com/Articles/2014_multiprocessing.html)\n",
    "\n",
    "What actually happens when you run code, or execute a program on a computer? If we focus on Python, what happens when we run Python code? Does our computer \"speak Python\", understand what we type, and do what we ask?\n",
    "\n",
    "It turns out that no, our computer does NOT speak Python. When we execute Python code, our code is passed to an **interpreter**. This interpreter is what reads our code and translates what we have written into what is called **machine code**. Machine code is typically not human-readable. That's the reason we have languages like Python, R, C++, Java, etc. We need a way to express logic clearly and explicitly, so that it can be translated into the kind of code that our computer DOES understand. \n",
    "\n",
    "So far, human speech (or written human language) does not translate directly to machine code.\n",
    "\n",
    "But what actually happens once we write our code, and the computer starts to run that code? We can understand the basics of this process through the following six (simplified!) steps:\n",
    "\n",
    "1) The computer allocates memory to the program\n",
    "2) The program issues a series of instructions to the processor (the thinking part of the computer)\n",
    "3) Upon completion of one instruction by the processor, the next is started\n",
    "4) Information is returned from the processor to the program as needed\n",
    "5) New instructions are sent to the processor based on information received from the processor\n",
    "6) Return to step 2, repeat until program is finished\n",
    "\n",
    "\n",
    "When a program is running, it typically has a single space in memory in which it stores all information relevant to its task. This memory space allows the information to be used by whichever part of the program requires that information to use it. Basically, think of all of the things in memory as shared assets, and different parts of the program want to be able to access them at the same time. Kind of like if you share a storage space with a friend or family member. Sometimes you'll be pulling out the camping gear, and sometimes they will be instead.\n",
    "\n",
    "Information that is accessible across the entire program are called **globally defined values**. But not all variables are global. Some variables with reduced **scope** are not available to all segments of a program. You might have valuables that you don't share with the other people using your storage space. It's kind of like that. Variables with reduced scope are only available to parts of the program that share that scope.\n",
    "\n",
    "While for people, we restrict access primarily based on keeping valuables safe, programs tend to do it in order to ensure that information is not lost or modified while it is needed by a part of the program. You wouldn't want to have someone change your budgeting spreadsheet in the middle of the month, would you?\n",
    "\n",
    "Again, **scope** is a term used to define the areas in which a given value in memory is accessible. Variables that are **Global** in scope can typically be accessed by any function or command running as part of the program. Variables that are **Local** can only be accessed within the scope in which they are defined. A variable created inside a function is said to be **local** to that function, and only available until the function is concluded. Then it is either returned to the global space, or forgotten.\n"
   ]
  },
  {
   "cell_type": "markdown",
   "metadata": {},
   "source": [
    "\n",
    "![](https://github.com/dustywhite7/Econ8320/blob/master/SlidesCode/serialParallel.png?raw=true)\n",
    "\n",
    "One of the single biggest changes in computational technology in the recent past was the advent and spread of parallel computation. This concept is the crux of this lesson, but needs a lot of explaining, because it isn't something that we as computer USERS have to deal with. It happens behind the scenes, despite its tremendous importance.\n",
    "\n",
    "### Sequential programs\n",
    "\n",
    "When we perform tasks, some steps must be performed sequentially. This happens because one task depends on the results of the other task. For example, an American football team will only make a play on fourth down if they fail to score or convert on third down. We can't fully implement our plan for fourth down until we have seen whether or not fourth down will occur. \n",
    "\n",
    "We need to aim our penalty shot in FIFA before taking the kick. We even need to wait to complete the details for the elimination rounds of the tournament until group play has ended. Until then, we don't know enough about which teams will advance to complete the bracket.\n",
    "\n",
    "In programming speak, sequential programs are sequential because it is critical that the results of one calculation be within the **scope** of the other calculations. If one sequential calculation cannot view the results of the prior calculation, then the second function cannot be completed.\n",
    "\n",
    "### Parallel Programs\n",
    "\n",
    "On the other hand, some calculations can be performed independent of the results of other steps. These tend to be calculations that can essentially be considered separate tasks, but part of a larger overall task. Some examples include\n",
    "\n",
    "- Batch processing of files\n",
    "- Non-sequential simulations\n",
    "- Serving recommended products to many users\n",
    "- Repeated random draws\n",
    "- Rendering polygons\n",
    "\n",
    "The key difference between serial and parallel programs is the dependency (or lack of dependency) of calculations on the results of previous calculations.\n",
    "\n",
    "- Serial programs rely on previous results\n",
    "- Parallel programs do not depend on the results of other calculations\n",
    "\n",
    "Parallel programs can occur simultaneously, allowing us to accelerate execution. If we can run four calculations simultaneously, then in theory we might be able to run 100 computations in the time that a serial program might run 25 similar computations.\n",
    "\n",
    "Parallel computations have enabled advances like improved graphics in video games, and have made possible the revolution in machine learning. Let's learn how to make parallel code work for our projects, as well!\n"
   ]
  },
  {
   "cell_type": "markdown",
   "metadata": {},
   "source": [
    "One place where parallel processing really shines is in estimating complex mathematical calculations. While some math can be solved algebraically, other math problems can only be solved computationally. The more computations we can perform in a given amount of time, the sooner we can find the solution to those problems. We can buy faster computers to speed up calculations, but we can also parallelize many calculations, giving us benefits without having to upgrade our computer!\n",
    "\n",
    "Some examples in which we will typically solve math problems with computation:\n",
    "- Estimating Producer/Consumer Surplus\n",
    "- Calculating probabilities from frequency tables\n",
    "- Integrating on complicated functional forms\n",
    "\n",
    "### Numeric Integration\n",
    "\n",
    "Often, when integrating complicated functions, there is no **algebraic** solution to the integral. This means that we need to estimate the value of the integral **numerically**. The process that we follow to estimate an integral numerically follows:\n",
    "\n",
    "1) Choose points at which to estimate the value of the function\n",
    "2) Choose bandwidth\n",
    "3) Multiply function values by bandwidth\n",
    "4) Add all estimates to calculate approximate integral\n",
    "\n",
    "![](https://github.com/dustywhite7/Econ8320/blob/master/SlidesCode/integralProcess.png?raw=true)\n",
    "\n",
    "Let's start by just defining a function to integrate. We can use \n",
    "\n",
    "$$ f(x) = \\frac{1}{1+x^2} $$\n",
    "\n",
    "as our example function. First, we need to write this function as a Python function:"
   ]
  },
  {
   "cell_type": "code",
   "execution_count": 1,
   "metadata": {},
   "outputs": [],
   "source": [
    "# define any function here!\n",
    "def f(x):\n",
    "    # return the value of the function given x\n",
    "    return 1/(1 + x**2)"
   ]
  },
  {
   "cell_type": "markdown",
   "metadata": {},
   "source": [
    "Now, we need to write a function that can sample from our function, and calculate the area of the sampled rectangles, and then return an approximate area."
   ]
  },
  {
   "cell_type": "code",
   "execution_count": 3,
   "metadata": {},
   "outputs": [],
   "source": [
    "import random\n",
    "\n",
    "def serial_integral(nSample, f, xmin, xmax):\n",
    "  # determine points of estimation\n",
    "  sample = sorted([random.uniform(xmin, xmax) for i in range(nSample)])\n",
    "  # Calculate height at each point\n",
    "  value = [f(i) for i in sample]\n",
    "  # Calculate areas of rectangles\n",
    "  # We have to specially calculate the first rectangle,\n",
    "  #   because xmin is not part of our list of samples\n",
    "  area = [(sample[0]-xmin)*value[0]] + [(sample[i]-sample[i-1])*value[i] for i in range(1, len(sample))]\n",
    "  # Return sum as an approximate integral\n",
    "  return sum(area)"
   ]
  },
  {
   "cell_type": "markdown",
   "metadata": {},
   "source": [
    "This is our function for actually integrating a function `f` from `xmin` to `xmax` across `nSample` random intervals. Below is a picture of how this function gets (approximately) closer to estimating the true integral value as we increase the number of points at which we sample the function. Because integration is based on randomly drawn intervals, the convergence is not smooth. If we took many integrals at each bin number, however, we would expect this plot to become smooth.\n",
    "\n",
    "![](https://github.com/dustywhite7/Econ8320/blob/master/SlidesCode/integral.png?raw=true)\n",
    "\n",
    "### Parallel calculations\n",
    "\n",
    "The ``multiprocess`` library is designed to create multiple sub-instances of the python interpreter called processes, with each process returning values that are independent of the other processes. In order to coordinate this effort, some computational power must be assigned to send off processes and to retrieve their results upon completion. \n",
    "\n",
    "This \"overhead\" means that parallel processing is not usually justified for very simple problems, and is reserved for computationally intensive problems, or where there are very many processes to be completed in one batch.\n",
    "\n",
    "Given the overhead of parallelization, it is not worthwhile to make a parallel version of our single integral function above. Instead, it IS worthwhile to create a function that can calculate the integral many times in parallel. Like we said above, convergence is noisy, but an average value for each given number of bins should be more stable.\n",
    "\n",
    "Let's see how much time we can save by making a function that will calculate an average value in parallel when compared to a serialized alternative."
   ]
  },
  {
   "cell_type": "code",
   "execution_count": 5,
   "metadata": {},
   "outputs": [],
   "source": [
    "import multiprocess as mp \n",
    "# if needed, install with\n",
    "# !pip install multiprocess\n",
    "\n",
    "def serial_average(n_bins, n_reps, f, xmin, xmax):\n",
    "  attempts = [serial_integral(n_bins, f, xmin, xmax) for i in range(n_reps)]\n",
    "  return sum(attempts)/n_reps\n",
    "\n",
    "def parallel_average(processes, n_bins, n_reps, f, xmin, xmax):\n",
    "  pool = mp.Pool(processes=processes)\n",
    "  results = [pool.apply_async(serial_integral, (n_bins, f, xmin, xmax)) for i in range(n_reps)]\n",
    "  results = [p.get() for p in results]\n",
    "  return sum(results)/n_reps"
   ]
  },
  {
   "cell_type": "markdown",
   "metadata": {},
   "source": [
    "Now let's explore what that function does."
   ]
  },
  {
   "cell_type": "code",
   "execution_count": 9,
   "metadata": {},
   "outputs": [],
   "source": [
    "def parallel_average(processes, n_bins, n_reps, f, xmin, xmax):\n",
    "  pool = mp.Pool(processes=processes)\n",
    "  ...\n",
    "  return ..."
   ]
  },
  {
   "cell_type": "markdown",
   "metadata": {},
   "source": [
    "The `mp.Pool` class provides the functionality to organize our processes, and to define the degree to which we want to spread our work across various **processes**. We can specify how many active processes there should be at any time with the number of processes.\n",
    "\n",
    "We need to take care to choose the right number of processes for our machine! In general, my experience has been that performance is best when you keep the number of processes at or below the number of cores available in your computer's processor."
   ]
  },
  {
   "cell_type": "code",
   "execution_count": null,
   "metadata": {},
   "outputs": [],
   "source": [
    "def parallel_average(processes, n_bins, n_reps, f, xmin, xmax):\n",
    "  ...\n",
    "  results = [pool.apply_async(serial_integral, (n_bins, f, xmin, xmax)) for i in range(n_reps)]\n",
    "  ...\n",
    "  return ..."
   ]
  },
  {
   "cell_type": "markdown",
   "metadata": {},
   "source": [
    "We next use the `apply_async` method to pass the values that we want our pooled instances to calculate. We need to provide the function to be executed, as well as the arguments for the function in each iteration with each each of the arguments an element in a tuple. In our case, we are not varying the arguments, so we provide a single tuple that never changes, but we could vary those arguments whenever necessary or desirable."
   ]
  },
  {
   "cell_type": "code",
   "execution_count": null,
   "metadata": {},
   "outputs": [],
   "source": [
    "def parallel_average(processes, n_bins, n_reps, f, xmin, xmax):\n",
    "  ...\n",
    "  results = [p.get() for p in results]\n",
    "  ...\n",
    "  return ..."
   ]
  },
  {
   "cell_type": "markdown",
   "metadata": {},
   "source": [
    "The next step is to use the `get()` method on each element of our returned processes. This will fetch the return statement values from each of the processes that we executed in the last line.\n",
    "\n",
    "At this point the parallel computation is complete. The remainder of the function will look and work just like the results from our `serial_average` method.\n",
    "\n",
    "\n",
    "### Timing it\n",
    "\n",
    "Next, it is time to write code that will allow us to test our parallel and serial performance."
   ]
  },
  {
   "cell_type": "code",
   "execution_count": 7,
   "metadata": {},
   "outputs": [
    {
     "name": "stdout",
     "output_type": "stream",
     "text": [
      "Serial function time taken: 35.588530 seconds\n",
      "Parallel function time taken: 4.581346 seconds\n"
     ]
    }
   ],
   "source": [
    "import time\n",
    "\n",
    "benchmarks = [] # list to store our execution times\n",
    "\n",
    "# Benchmark serial code\n",
    "start = time.time()\n",
    "result = serial_average(10000, 10000, f, 0, 1)\n",
    "end = time.time()\n",
    "elapsed = end - start\n",
    "print(f'Serial function time taken: {elapsed:.6f} seconds') # library for timing execution of code\n",
    "\n",
    "benchmarks.append(elapsed)\n",
    "\n",
    "# Benchmark parallel code\n",
    "start = time.time()\n",
    "# Run a process for each CPU core minus one\n",
    "result = parallel_average(mp.cpu_count()-1, 10000, 10000, f, 0, 1)\n",
    "end = time.time()\n",
    "elapsed = end - start\n",
    "print(f'Parallel function time taken: {elapsed:.6f} seconds') # library for timing execution of code\n",
    "\n",
    "benchmarks.append(elapsed)"
   ]
  },
  {
   "cell_type": "markdown",
   "metadata": {},
   "source": [
    "Amazing! When timing the output on my virtual machine (not at all a powerful computer), the parallel version runs nearly twice as fast (0.36 seconds vs 0.69 seconds). Even in a fairly trivial example, we see significant performance gains.\n",
    "\n",
    "When I ran a similar trial on my computer with 16 cores, I saw the following performance pattern:\n",
    "\n",
    "![w:750](https://github.com/dustywhite7/Econ8320/blob/master/SlidesCode/performance.png?raw=true)\n",
    "\n",
    "On 16 cores, the parallel version of this problem executes over 5x faster than the serial version! Some observations:\n",
    "\n",
    "- This was done on a 16-core processor, which is an expensive way to get a performance gain\n",
    "- Creating too many processes (going past 16 to 32) actually started to slow the computations down\n",
    "- We need to be aware of the hardware that we are utilizing when designing parallel code\n",
    "\n",
    "If you are unsure of how many processes you should run on your machine, the following command will show you how many CPU cores are available to Python:\n",
    "\n",
    "```python \n",
    "mp.cpu_count() # Tells us the number of available CPUs\n",
    "```\n",
    "\n",
    "Now it's your turn to give it a go!\n"
   ]
  },
  {
   "cell_type": "markdown",
   "metadata": {},
   "source": [
    "## Solve-it!\n",
    "\n",
    "Simulate 1,000 draws from a multivariate normal distribution and calculate the average value of the dependent variable, but do it 100 times! This is called \"bootstrapping\" and is a critical process in many statistical models and simulations. Draw from the following equation:\n",
    "\n",
    "$$ y = \\alpha + x_{1} + 2\\cdot x_{2} + \\frac{1}{2}x_{3} + \\epsilon $$\n",
    "\n",
    "where\n",
    "\n",
    "$\\alpha \\sim \\mathcal{N}(15,2)$, $x_1 \\sim \\mathcal{N}(3,5)$,\n",
    "\n",
    "$x_2 \\sim \\mathcal{N}(10,1)$, $x_3 \\sim \\mathcal{N}(8,8)$, and\n",
    "\n",
    "$\\epsilon \\sim \\mathcal{N}(0,1)$\n",
    "\n",
    "$\\mathcal{N}(\\mu, \\sigma)$ represents the Normal distribution with mean $\\mu$ and standard deviation $\\sigma$\n",
    "\n",
    "Write functions to generate all values and calculate . Test and time these draws using serial and parallel programming (2 cores), and report the difference in performance between the two versions.\n",
    "\n",
    "\n",
    "Call your serial function `sCalc`, and your parallel function `pCalc`, store your results from each function as a list, with the lists named `sResults` and `pResults`, respectively.\n",
    "\n",
    "Finally, store the timed values for each run as `sTime` and `pTime`, respectively. All code for this exercise should go in the cell labeled `#si-exercise` below.\n",
    "\n",
    "**NOTE: Because we are running code on a virtual machine, and because the problem is not very computationally intensive, we should not be surprised if the serial version of our code outperforms the parallel version for this assignment.**\n",
    "\n",
    "**OTHER NOTE: Because we need this to run in a reasonable amount of time, we are only running 100 rounds of sampling. Typical bootstrapping procedures default to 10,000 rounds as good practice.**"
   ]
  },
  {
   "cell_type": "code",
   "execution_count": null,
   "metadata": {},
   "outputs": [],
   "source": [
    "#si-exercise\n",
    "import timeit\n",
    "import numpy as np\n",
    "import multiprocessing as mp\n",
    "\n",
    "#function defining\n",
    "def Simulation(_):\n",
    "    alpha = np.random.normal(15, 2)\n",
    "    x1 = np.random.normal(3, 5)\n",
    "    x2 = np.random.normal(10, 1)\n",
    "    x3 = np.random.normal(8, 8)\n",
    "    error = np.random.normal(0, 1)\n",
    "    return alpha + x1 + 2 * x2 + 12 * x3 + error\n",
    "\n",
    "#calculate the mean in serial\n",
    "def sMean(nSamples):\n",
    "    return sum(Simulation(_) for _ in range(nSamples)) / nSamples\n",
    "\n",
    "# Serial implementation\n",
    "def sCalc(n_reps, nSamples):\n",
    "    results = [sMean(nSamples) for _ in range(n_reps)]\n",
    "    return results\n",
    "\n",
    "# Parallel implementation\n",
    "def pCalc(n_reps, nSamples):\n",
    "    with mp.Pool(2) as pool:\n",
    "        results = pool.map(sMean, [nSamples] * n_reps)\n",
    "    return results\n",
    "\n",
    "#Serial calculation\n",
    "sTime = str(timeit.Timer(\"sCalc(100, 1000)\", \"from __main__ import sCalc\").timeit(number=1))\n",
    "sResults = sCalc(100, 1000)\n",
    "\n",
    "\n",
    "#Parallel calculation\n",
    "pTime = str(timeit.Timer(\"pCalc(100, 1000)\", \"from __main__ import pCalc\").timeit(number=1))\n",
    "pResults = pCalc(100, 1000)\n",
    "\n",
    "\n",
    "print(\"Serial Time:\", sTime)\n",
    "print(\"Parallel Time:\", pTime)"
   ]
  }
 ],
 "metadata": {
  "celltoolbar": "Create Assignment",
  "kernelspec": {
   "display_name": "Python [conda env:base] *",
   "language": "python",
   "name": "conda-base-py"
  },
  "language_info": {
   "codemirror_mode": {
    "name": "ipython",
    "version": 3
   },
   "file_extension": ".py",
   "mimetype": "text/x-python",
   "name": "python",
   "nbconvert_exporter": "python",
   "pygments_lexer": "ipython3",
   "version": "3.12.7"
  }
 },
 "nbformat": 4,
 "nbformat_minor": 4
}
